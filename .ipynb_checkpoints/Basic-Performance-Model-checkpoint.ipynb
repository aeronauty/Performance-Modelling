{
 "cells": [
  {
   "cell_type": "markdown",
   "metadata": {},
   "source": [
    "# Introduction\n",
    "\n",
    "In this Jupyter notebook we'll be attempting to model the performance of the straight-bladed propellers from Evans and Liner (1951).\n",
    "\n",
    "This will give an introduction to blade form curves, and we will start to build our blade element model - with which we shall couple a momentum model, and then _hopefully_ be able to make prediction of $C_T$ and $C_P$ vs $J$...\n",
    "\n",
    "Evans, A., Liner, G. (1951). A Wind-Tunnel Investigation of the Aerodynamic Characteristics of a Full-Scale Sweptback Propeller and Two Related Straight Propellers"
   ]
  },
  {
   "cell_type": "markdown",
   "metadata": {},
   "source": [
    "## Blade Form Curves\n",
    "\n",
    "To describe the geometry of complex three-dimensional blades, the only information actually required for unswept blades is actually the $C_{ld}$, chord ($c$), $\\frac{t}{c}$, and twist $\\beta$. These are defined in *blade form curves*. See the extract from Evans and Liner (1951), below:\n",
    "\n",
    "\n",
    "<img src=\"BladeFormCurves.png\" width=400 />\n",
    "\n",
    "It will be useful for us to be able to define a Python module that enables us to supply:\n",
    "\n",
    "- Propeller number (I, II, or III)\n",
    "- A list, or np array of $x$ locations\n",
    "\n",
    "and have returned the quantities we're after as arrays or lists of the same size as the $x$ that was given to us\n",
    "\n",
    "Whilst we're not interested in the swept blade _yet_ , we might be at a future date* - so we can include that functionality later.\n",
    "\n",
    "*_This is the royal 'we' - I am very interested, but it's just a little too much to tackle in this group right now. Baby steps_"
   ]
  },
  {
   "cell_type": "code",
   "execution_count": null,
   "metadata": {},
   "outputs": [],
   "source": []
  }
 ],
 "metadata": {
  "kernelspec": {
   "display_name": "Python 3",
   "language": "python",
   "name": "python3"
  },
  "language_info": {
   "codemirror_mode": {
    "name": "ipython",
    "version": 3
   },
   "file_extension": ".py",
   "mimetype": "text/x-python",
   "name": "python",
   "nbconvert_exporter": "python",
   "pygments_lexer": "ipython3",
   "version": "3.7.6"
  }
 },
 "nbformat": 4,
 "nbformat_minor": 4
}
